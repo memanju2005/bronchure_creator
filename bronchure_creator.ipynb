{
  "cells": [
    {
      "cell_type": "markdown",
      "source": [
        "#So basically this is the extension part of the project i have done while learning llm engineeering\n",
        "the flow is simple\n",
        "\n",
        "#pre-existing:\n",
        "\n",
        "*   to scrap the data from the company site and extracting usefull links\n",
        "\n",
        "*  passing the scrapped data to the model (gpt-4o-mini) with proper system and user promt to get clean bronchure in markdown\n",
        "\n",
        "#I added up\n",
        "(  just thoght what if i somehow write the bronchure in the pdf with some styling and formatting)\n",
        "\n",
        "\n",
        "*   i used the library weasyprint which allowed me to write the content on the pdf with using html and css\n",
        "*  i passed the bronchure content to the model(gpt-4o-mini/gpt-4o) to gt the styled html and css to embed in the weasyprint\n",
        "\n",
        "#📓note:\n",
        "try creating mutiple times to get choose god one out of it\n",
        "\n",
        "\n",
        "\n",
        "\n",
        "\n",
        "\n"
      ],
      "metadata": {
        "id": "Ynr5MWO3bvTl"
      },
      "id": "Ynr5MWO3bvTl"
    },
    {
      "cell_type": "code",
      "source": [
        "# # Core packages\n",
        "# !pip install requests\n",
        "# !pip install python-dotenv\n",
        "# !pip install beautifulsoup4\n",
        "\n",
        "\n",
        "# !pip install openai\n",
        "# !pip install weasyprint\n"
      ],
      "metadata": {
        "id": "irD0sGD7f8dP"
      },
      "id": "irD0sGD7f8dP",
      "execution_count": 93,
      "outputs": []
    },
    {
      "cell_type": "code",
      "execution_count": 94,
      "id": "d5b08506-dc8b-4443-9201-5f1848161363",
      "metadata": {
        "id": "d5b08506-dc8b-4443-9201-5f1848161363"
      },
      "outputs": [],
      "source": [
        "# imports\n",
        "import os\n",
        "import requests\n",
        "import json\n",
        "from typing import List\n",
        "from dotenv import load_dotenv\n",
        "from bs4 import BeautifulSoup\n",
        "from IPython.display import Markdown, display, update_display\n",
        "from openai import OpenAI"
      ]
    },
    {
      "cell_type": "code",
      "execution_count": 95,
      "id": "fc5d8880-f2ee-4c06-af16-ecbc0262af61",
      "metadata": {
        "colab": {
          "base_uri": "https://localhost:8080/"
        },
        "id": "fc5d8880-f2ee-4c06-af16-ecbc0262af61",
        "outputId": "9445286f-a9d4-4bc6-da3b-cced9f0a9be2"
      },
      "outputs": [
        {
          "output_type": "stream",
          "name": "stdout",
          "text": [
            "API key looks good so far\n"
          ]
        }
      ],
      "source": [
        "# Initialize and constants\n",
        "\n",
        "load_dotenv(override=True)\n",
        "api_key = os.getenv('OPENAI_API_KEY')\n",
        "\n",
        "if api_key and api_key.startswith('sk-proj-') and len(api_key)>10:\n",
        "    print(\"API key looks good so far\")\n",
        "else:\n",
        "    print(\"There might be a problem with your API key? Please visit the troubleshooting notebook!\")\n",
        "\n",
        "MODEL = 'gpt-4o-mini'\n",
        "openai = OpenAI()"
      ]
    },
    {
      "cell_type": "code",
      "source": [
        "company_url=input(\"Enter theh company url:\")\n",
        "company_name=input(\"Enter the company name:\")"
      ],
      "metadata": {
        "colab": {
          "base_uri": "https://localhost:8080/"
        },
        "id": "mieaQcwcd66u",
        "outputId": "44c1f184-82b0-44ac-94e1-87e5961be897"
      },
      "id": "mieaQcwcd66u",
      "execution_count": 96,
      "outputs": [
        {
          "name": "stdout",
          "output_type": "stream",
          "text": [
            "Enter theh company url:https://huggingface.co/\n",
            "Enter the company name:Huggingface\n"
          ]
        }
      ]
    },
    {
      "cell_type": "code",
      "execution_count": 97,
      "id": "106dd65e-90af-4ca8-86b6-23a41840645b",
      "metadata": {
        "id": "106dd65e-90af-4ca8-86b6-23a41840645b"
      },
      "outputs": [],
      "source": [
        "# A class to represent a Webpage\n",
        "\n",
        "# Some websites need you to use proper headers when fetching them:\n",
        "headers = {\n",
        " \"User-Agent\": \"Mozilla/5.0 (Windows NT 10.0; Win64; x64) AppleWebKit/537.36 (KHTML, like Gecko) Chrome/117.0.0.0 Safari/537.36\"\n",
        "}\n",
        "\n",
        "class Website:\n",
        "    \"\"\"\n",
        "    A utility class to represent a Website that we have scraped, now with links\n",
        "    \"\"\"\n",
        "\n",
        "    def __init__(self, url):\n",
        "        self.url = url\n",
        "        response = requests.get(url, headers=headers)\n",
        "        self.body = response.content\n",
        "        soup = BeautifulSoup(self.body, 'html.parser')\n",
        "        self.title = soup.title.string if soup.title else \"No title found\"\n",
        "        if soup.body:\n",
        "            for irrelevant in soup.body([\"script\", \"style\", \"img\", \"input\"]):\n",
        "                irrelevant.decompose()\n",
        "            self.text = soup.body.get_text(separator=\"\\n\", strip=True)\n",
        "        else:\n",
        "            self.text = \"\"\n",
        "        links = [link.get('href') for link in soup.find_all('a')]\n",
        "        self.links = [link for link in links if link]\n",
        "\n",
        "    def get_contents(self):\n",
        "        return f\"Webpage Title:\\n{self.title}\\nWebpage Contents:\\n{self.text}\\n\\n\""
      ]
    },
    {
      "cell_type": "code",
      "execution_count": 98,
      "id": "e30d8128-933b-44cc-81c8-ab4c9d86589a",
      "metadata": {
        "colab": {
          "base_uri": "https://localhost:8080/"
        },
        "id": "e30d8128-933b-44cc-81c8-ab4c9d86589a",
        "outputId": "49c47dc5-7df7-40e8-d42f-ddef3a09714a"
      },
      "outputs": [
        {
          "output_type": "execute_result",
          "data": {
            "text/plain": [
              "['/',\n",
              " '/models',\n",
              " '/datasets',\n",
              " '/spaces',\n",
              " '/docs',\n",
              " '/enterprise',\n",
              " '/pricing',\n",
              " '/login',\n",
              " '/join',\n",
              " '/spaces',\n",
              " '/models',\n",
              " '/Qwen/Qwen-Image-Edit',\n",
              " '/deepseek-ai/DeepSeek-V3.1-Base',\n",
              " '/google/gemma-3-270m',\n",
              " '/deepseek-ai/DeepSeek-V3.1',\n",
              " '/tencent/Hunyuan-GameCraft-1.0',\n",
              " '/models',\n",
              " '/spaces/enzostvs/deepsite',\n",
              " '/spaces/Qwen/Qwen-Image-Edit',\n",
              " '/spaces/zerogpu-aoti/wan2-2-fp8da-aoti-faster',\n",
              " '/spaces/AIDC-AI/Ovis2.5-9B',\n",
              " '/spaces/Qwen/Qwen-Image',\n",
              " '/spaces',\n",
              " '/datasets/nvidia/Granary',\n",
              " '/datasets/fka/awesome-chatgpt-prompts',\n",
              " '/datasets/nvidia/Llama-Nemotron-VLM-Dataset-v1',\n",
              " '/datasets/allenai/WildChat-4.8M',\n",
              " '/datasets/FreedomIntelligence/medical-o1-reasoning-SFT',\n",
              " '/datasets',\n",
              " '/join',\n",
              " '/pricing#endpoints',\n",
              " '/pricing#spaces',\n",
              " '/pricing',\n",
              " '/enterprise',\n",
              " '/enterprise',\n",
              " '/enterprise',\n",
              " '/enterprise',\n",
              " '/enterprise',\n",
              " '/enterprise',\n",
              " '/enterprise',\n",
              " '/allenai',\n",
              " '/facebook',\n",
              " '/amazon',\n",
              " '/google',\n",
              " '/Intel',\n",
              " '/microsoft',\n",
              " '/grammarly',\n",
              " '/Writer',\n",
              " '/docs/transformers',\n",
              " '/docs/diffusers',\n",
              " '/docs/safetensors',\n",
              " '/docs/huggingface_hub',\n",
              " '/docs/tokenizers',\n",
              " '/docs/trl',\n",
              " '/docs/transformers.js',\n",
              " '/docs/smolagents',\n",
              " '/docs/peft',\n",
              " '/docs/datasets',\n",
              " '/docs/text-generation-inference',\n",
              " '/docs/accelerate',\n",
              " '/models',\n",
              " '/datasets',\n",
              " '/spaces',\n",
              " '/changelog',\n",
              " 'https://endpoints.huggingface.co',\n",
              " '/chat',\n",
              " '/huggingface',\n",
              " '/brand',\n",
              " '/terms-of-service',\n",
              " '/privacy',\n",
              " 'https://apply.workable.com/huggingface/',\n",
              " 'mailto:press@huggingface.co',\n",
              " '/learn',\n",
              " '/docs',\n",
              " '/blog',\n",
              " 'https://discuss.huggingface.co',\n",
              " 'https://status.huggingface.co/',\n",
              " 'https://github.com/huggingface',\n",
              " 'https://twitter.com/huggingface',\n",
              " 'https://www.linkedin.com/company/huggingface/',\n",
              " '/join/discord']"
            ]
          },
          "metadata": {},
          "execution_count": 98
        }
      ],
      "source": [
        "site = Website(company_url)\n",
        "site.links\n"
      ]
    },
    {
      "cell_type": "code",
      "execution_count": 99,
      "id": "6957b079-0d96-45f7-a26a-3487510e9b35",
      "metadata": {
        "id": "6957b079-0d96-45f7-a26a-3487510e9b35"
      },
      "outputs": [],
      "source": [
        "link_system_prompt = \"You are provided with a list of links found on a webpage. \\\n",
        "You are able to decide which of the links would be most relevant to include in a brochure about the company, \\\n",
        "such as links to an About page, or a Company page, or Careers/Jobs pages.\\n\"\n",
        "link_system_prompt += \"You should respond in JSON as in this example:\"\n",
        "link_system_prompt += \"\"\"\n",
        "{\n",
        "    \"links\": [\n",
        "        {\"type\": \"about page\", \"url\": \"https://full.url/goes/here/about\"},\n",
        "        {\"type\": \"careers page\", \"url\": \"https://another.full.url/careers\"}\n",
        "    ]\n",
        "}\n",
        "\"\"\""
      ]
    },
    {
      "cell_type": "code",
      "execution_count": 100,
      "id": "b97e4068-97ed-4120-beae-c42105e4d59a",
      "metadata": {
        "colab": {
          "base_uri": "https://localhost:8080/"
        },
        "id": "b97e4068-97ed-4120-beae-c42105e4d59a",
        "outputId": "4af30343-2d52-44b5-bcd0-99082d569915"
      },
      "outputs": [
        {
          "output_type": "stream",
          "name": "stdout",
          "text": [
            "You are provided with a list of links found on a webpage. You are able to decide which of the links would be most relevant to include in a brochure about the company, such as links to an About page, or a Company page, or Careers/Jobs pages.\n",
            "You should respond in JSON as in this example:\n",
            "{\n",
            "    \"links\": [\n",
            "        {\"type\": \"about page\", \"url\": \"https://full.url/goes/here/about\"},\n",
            "        {\"type\": \"careers page\", \"url\": \"https://another.full.url/careers\"}\n",
            "    ]\n",
            "}\n",
            "\n"
          ]
        }
      ],
      "source": [
        "print(link_system_prompt)"
      ]
    },
    {
      "cell_type": "code",
      "execution_count": 101,
      "id": "8e1f601b-2eaf-499d-b6b8-c99050c9d6b3",
      "metadata": {
        "id": "8e1f601b-2eaf-499d-b6b8-c99050c9d6b3"
      },
      "outputs": [],
      "source": [
        "def get_links_user_prompt(website):\n",
        "    user_prompt = f\"Here is the list of links on the website of {website.url} - \"\n",
        "    user_prompt += \"please decide which of these are relevant web links for a brochure about the company, respond with the full https URL in JSON format. \\\n",
        "Do not include Terms of Service, Privacy, email links.\\n\"\n",
        "    user_prompt += \"Links (some might be relative links):\\n\"\n",
        "    user_prompt += \"\\n\".join(website.links)\n",
        "    return user_prompt"
      ]
    },
    {
      "cell_type": "code",
      "execution_count": 102,
      "id": "6bcbfa78-6395-4685-b92c-22d592050fd7",
      "metadata": {
        "colab": {
          "base_uri": "https://localhost:8080/"
        },
        "id": "6bcbfa78-6395-4685-b92c-22d592050fd7",
        "outputId": "96603249-c591-4f33-ec7a-c9a52f34abfd"
      },
      "outputs": [
        {
          "output_type": "stream",
          "name": "stdout",
          "text": [
            "Here is the list of links on the website of https://huggingface.co/ - please decide which of these are relevant web links for a brochure about the company, respond with the full https URL in JSON format. Do not include Terms of Service, Privacy, email links.\n",
            "Links (some might be relative links):\n",
            "/\n",
            "/models\n",
            "/datasets\n",
            "/spaces\n",
            "/docs\n",
            "/enterprise\n",
            "/pricing\n",
            "/login\n",
            "/join\n",
            "/spaces\n",
            "/models\n",
            "/Qwen/Qwen-Image-Edit\n",
            "/deepseek-ai/DeepSeek-V3.1-Base\n",
            "/google/gemma-3-270m\n",
            "/deepseek-ai/DeepSeek-V3.1\n",
            "/tencent/Hunyuan-GameCraft-1.0\n",
            "/models\n",
            "/spaces/enzostvs/deepsite\n",
            "/spaces/Qwen/Qwen-Image-Edit\n",
            "/spaces/zerogpu-aoti/wan2-2-fp8da-aoti-faster\n",
            "/spaces/AIDC-AI/Ovis2.5-9B\n",
            "/spaces/Qwen/Qwen-Image\n",
            "/spaces\n",
            "/datasets/nvidia/Granary\n",
            "/datasets/fka/awesome-chatgpt-prompts\n",
            "/datasets/nvidia/Llama-Nemotron-VLM-Dataset-v1\n",
            "/datasets/allenai/WildChat-4.8M\n",
            "/datasets/FreedomIntelligence/medical-o1-reasoning-SFT\n",
            "/datasets\n",
            "/join\n",
            "/pricing#endpoints\n",
            "/pricing#spaces\n",
            "/pricing\n",
            "/enterprise\n",
            "/enterprise\n",
            "/enterprise\n",
            "/enterprise\n",
            "/enterprise\n",
            "/enterprise\n",
            "/enterprise\n",
            "/allenai\n",
            "/facebook\n",
            "/amazon\n",
            "/google\n",
            "/Intel\n",
            "/microsoft\n",
            "/grammarly\n",
            "/Writer\n",
            "/docs/transformers\n",
            "/docs/diffusers\n",
            "/docs/safetensors\n",
            "/docs/huggingface_hub\n",
            "/docs/tokenizers\n",
            "/docs/trl\n",
            "/docs/transformers.js\n",
            "/docs/smolagents\n",
            "/docs/peft\n",
            "/docs/datasets\n",
            "/docs/text-generation-inference\n",
            "/docs/accelerate\n",
            "/models\n",
            "/datasets\n",
            "/spaces\n",
            "/changelog\n",
            "https://endpoints.huggingface.co\n",
            "/chat\n",
            "/huggingface\n",
            "/brand\n",
            "/terms-of-service\n",
            "/privacy\n",
            "https://apply.workable.com/huggingface/\n",
            "mailto:press@huggingface.co\n",
            "/learn\n",
            "/docs\n",
            "/blog\n",
            "https://discuss.huggingface.co\n",
            "https://status.huggingface.co/\n",
            "https://github.com/huggingface\n",
            "https://twitter.com/huggingface\n",
            "https://www.linkedin.com/company/huggingface/\n",
            "/join/discord\n"
          ]
        }
      ],
      "source": [
        "print(get_links_user_prompt(site))"
      ]
    },
    {
      "cell_type": "code",
      "execution_count": 103,
      "id": "a29aca19-ca13-471c-a4b4-5abbfa813f69",
      "metadata": {
        "id": "a29aca19-ca13-471c-a4b4-5abbfa813f69"
      },
      "outputs": [],
      "source": [
        "def get_links(url):\n",
        "    website = Website(url)\n",
        "    response = openai.chat.completions.create(\n",
        "        model=MODEL,\n",
        "        messages=[\n",
        "            {\"role\": \"system\", \"content\": link_system_prompt},\n",
        "            {\"role\": \"user\", \"content\": get_links_user_prompt(website)}\n",
        "      ],\n",
        "        response_format={\"type\": \"json_object\"}\n",
        "    )\n",
        "    result = response.choices[0].message.content\n",
        "    return json.loads(result)"
      ]
    },
    {
      "cell_type": "markdown",
      "id": "0d74128e-dfb6-47ec-9549-288b621c838c",
      "metadata": {
        "id": "0d74128e-dfb6-47ec-9549-288b621c838c"
      },
      "source": [
        "## Second step: make the brochure!\n",
        "\n",
        "Assemble all the details into another prompt to GPT4-o"
      ]
    },
    {
      "cell_type": "code",
      "execution_count": 104,
      "id": "85a5b6e2-e7ef-44a9-bc7f-59ede71037b5",
      "metadata": {
        "id": "85a5b6e2-e7ef-44a9-bc7f-59ede71037b5"
      },
      "outputs": [],
      "source": [
        "def get_all_details(url):\n",
        "    result = \"Landing page:\\n\"\n",
        "    result += Website(url).get_contents()\n",
        "    links = get_links(url)\n",
        "    print(\"Found links:\", links)\n",
        "    for link in links[\"links\"]:\n",
        "        result += f\"\\n\\n{link['type']}\\n\"\n",
        "        result += Website(link[\"url\"]).get_contents()\n",
        "    return result"
      ]
    },
    {
      "cell_type": "code",
      "execution_count": 105,
      "id": "9b863a55-f86c-4e3f-8a79-94e24c1a8cf2",
      "metadata": {
        "id": "9b863a55-f86c-4e3f-8a79-94e24c1a8cf2"
      },
      "outputs": [],
      "source": [
        "system_prompt = \"You are an assistant that analyzes the contents of several relevant pages from a company website \\\n",
        "and creates a short brochure about the company for prospective customers, investors and recruits. Respond in markdown.\\\n",
        "Include details of company culture, customers and careers/jobs if you have the information.\"\n",
        "\n",
        "# Or uncomment the lines below for a more humorous brochure - this demonstrates how easy it is to incorporate 'tone':\n",
        "\n",
        "# system_prompt = \"You are an assistant that analyzes the contents of several relevant pages from a company website \\\n",
        "# and creates a short humorous, entertaining, jokey brochure about the company for prospective customers, investors and recruits. Respond in markdown.\\\n",
        "# Include details of company culture, customers and careers/jobs if you have the information.\"\n"
      ]
    },
    {
      "cell_type": "code",
      "execution_count": 106,
      "id": "6ab83d92-d36b-4ce0-8bcc-5bb4c2f8ff23",
      "metadata": {
        "id": "6ab83d92-d36b-4ce0-8bcc-5bb4c2f8ff23"
      },
      "outputs": [],
      "source": [
        "def get_brochure_user_prompt(company_name, url):\n",
        "    user_prompt = f\"You are looking at a company called: {company_name}\\n\"\n",
        "    user_prompt += f\"Here are the contents of its landing page and other relevant pages; use this information to build a short brochure of the company in markdown.\\n\"\n",
        "    user_prompt += get_all_details(url)\n",
        "    user_prompt = user_prompt[:5_000] # Truncate if more than 5,000 characters\n",
        "    return user_prompt"
      ]
    },
    {
      "cell_type": "code",
      "execution_count": 107,
      "id": "cd909e0b-1312-4ce2-a553-821e795d7572",
      "metadata": {
        "colab": {
          "base_uri": "https://localhost:8080/",
          "height": 212
        },
        "id": "cd909e0b-1312-4ce2-a553-821e795d7572",
        "outputId": "37742e94-924a-4aae-ce10-52d1ab9970ab"
      },
      "outputs": [
        {
          "output_type": "stream",
          "name": "stdout",
          "text": [
            "Found links: {'links': [{'type': 'about page', 'url': 'https://huggingface.co/#huggingface'}, {'type': 'careers page', 'url': 'https://apply.workable.com/huggingface/'}]}\n"
          ]
        },
        {
          "output_type": "execute_result",
          "data": {
            "text/plain": [
              "'You are looking at a company called: Huggingface\\nHere are the contents of its landing page and other relevant pages; use this information to build a short brochure of the company in markdown.\\nLanding page:\\nWebpage Title:\\nHugging Face – The AI community building the future.\\nWebpage Contents:\\nHugging Face\\nModels\\nDatasets\\nSpaces\\nCommunity\\nDocs\\nEnterprise\\nPricing\\nLog In\\nSign Up\\nThe AI community building the future.\\nThe platform where the machine learning community collaborates on models, datasets, and applications.\\nExplore AI Apps\\nor\\nBrowse 1M+ models\\nTrending on\\nthis week\\nModels\\nQwen/Qwen-Image-Edit\\nUpdated\\n4 days ago\\n•\\n23.5k\\n•\\n1.02k\\ndeepseek-ai/DeepSeek-V3.1-Base\\nUpdated\\nabout 2 hours ago\\n•\\n10.9k\\n•\\n838\\ngoogle/gemma-3-270m\\nUpdated\\n8 days ago\\n•\\n57.7k\\n•\\n578\\ndeepseek-ai/DeepSeek-V3.1\\nUpdated\\nabout 2 hours ago\\n•\\n7.8k\\n•\\n399\\ntencent/Hunyuan-GameCraft-1.0\\nUpdated\\n3 days ago\\n•\\n153\\n•\\n449\\nBrowse 1M+ models\\nSpaces\\nRunning\\n12.2k\\n12.2k\\nDeepSite v2\\n🐳\\nGenerate any application with DeepSeek\\nRunning\\non\\nZero\\n237\\n237\\nQwen Image Edit\\n✒\\nEdit images based on user instructions\\nRunning\\non\\nZero\\nMCP\\n283\\n283\\nWan2.2 14B Fast\\n🎥\\ngenerate a video from an image with a text prompt\\nRunning\\non\\nZero\\n150\\n150\\nOvis2.5 9B\\n📊\\nHigh-accuracy vision & reasoning for complex tasks\\nRunning\\non\\nZero\\n697\\n697\\nQwen Image\\n🖼\\nGenerate images from text prompts\\nBrowse 400k+ applications\\nDatasets\\nnvidia/Granary\\nUpdated\\n8 days ago\\n•\\n12k\\n•\\n106\\nfka/awesome-chatgpt-prompts\\nUpdated\\nJan 6\\n•\\n37.9k\\n•\\n8.8k\\nnvidia/Llama-Nemotron-VLM-Dataset-v1\\nUpdated\\n3 days ago\\n•\\n3.26k\\n•\\n115\\nallenai/WildChat-4.8M\\nUpdated\\n11 days ago\\n•\\n2.99k\\n•\\n86\\nFreedomIntelligence/medical-o1-reasoning-SFT\\nUpdated\\nApr 22\\n•\\n15k\\n•\\n846\\nBrowse 250k+ datasets\\nThe Home of Machine Learning\\nCreate, discover and collaborate on ML better.\\nThe collaboration platform\\nHost and collaborate on unlimited public models, datasets and applications.\\nMove faster\\nWith the HF Open source stack.\\nExplore all modalities\\nText, image, video, audio or even 3D.\\nBuild your portfolio\\nShare your work with the world and build your ML profile.\\nSign Up\\nAccelerate your ML\\nWe provide paid Compute and Enterprise solutions.\\nCompute\\nDeploy on optimized\\nInference Endpoints\\nor update your\\nSpaces applications\\nto a GPU in a few clicks.\\nView pricing\\nStarting at $0.60/hour for GPU\\nTeam & Enterprise\\nGive your team the most advanced platform to build AI with enterprise-grade security, access controls and\\n\\t\\t\\tdedicated support.\\nGetting started\\nStarting at $20/user/month\\nSingle Sign-On\\nRegions\\nPriority Support\\nAudit Logs\\nResource Groups\\nPrivate Datasets Viewer\\nMore than 50,000 organizations are using Hugging Face\\nAi2\\nEnterprise\\nnon-profit\\n•\\n783 models\\n•\\n3.9k followers\\nAI at Meta\\nEnterprise\\ncompany\\n•\\n2.22k models\\n•\\n7.38k followers\\nAmazon\\ncompany\\n•\\n20 models\\n•\\n3.37k followers\\nGoogle\\nEnterprise\\ncompany\\n•\\n1.04k models\\n•\\n25.6k followers\\nIntel\\ncompany\\n•\\n238 models\\n•\\n2.92k followers\\nMicrosoft\\ncompany\\n•\\n419 models\\n•\\n14.3k followers\\nGrammarly\\nTeam\\ncompany\\n•\\n11 models\\n•\\n173 followers\\nWriter\\nEnterprise\\ncompany\\n•\\n21 models\\n•\\n323 followers\\nOur Open Source\\nWe are building the foundation of ML tooling with the community.\\nTransformers\\n148,649\\nState-of-the-art AI models for PyTorch\\nDiffusers\\n30,434\\nState-of-the-art Diffusion models in PyTorch\\nSafetensors\\n3,410\\nSafe way to store/distribute neural network weights\\nHub Python Library\\n2,859\\nPython client to interact with the Hugging Face Hub\\nTokenizers\\n10,010\\nFast tokenizers optimized for research & production\\nTRL\\n15,197\\nTrain transformers LMs with reinforcement learning\\nTransformers.js\\n14,390\\nState-of-the-art ML running directly in your browser\\nsmolagents\\n22,289\\nSmol library to build great agents in Python\\nPEFT\\n19,372\\nParameter-efficient finetuning for large language models\\nDatasets\\n20,534\\nAccess & share datasets for any ML tasks\\nText Generation Inference\\n10,441\\nServe language models with TGI optimized toolkit\\nAccelerate\\n9,057\\nTrain PyTorch models with multi-GPU, TPU, mixed precision\\nSystem theme\\nWebsite\\nModels\\nDatasets\\nSpaces\\nChangelog\\nInference Endpoints\\nHuggingChat\\nCompany\\nAbout\\nBrand assets\\nTerms of service\\nPrivacy\\nJobs\\nPress\\nResources\\nLearn\\nDocumentation\\nBlog\\nForum\\nService Status\\nSocial\\nGitHub\\nTwitter\\nLinkedIn\\nDiscord\\n\\n\\n\\nabout page\\nWebpage Title:\\nHugging Face – The AI community building the future.\\nWebpage Contents:\\nHugging Face\\nModels\\nDatasets\\nSpaces\\nCommunity\\nDocs\\nEnterprise\\nPricing\\nLog In\\nSign Up\\nThe AI community building the future.\\nThe platform where the machine learning community collaborates on models, datasets, and applications.\\nExplore AI Apps\\nor\\nBrowse 1M+ models\\nTrending on\\nthis week\\nModels\\nQwen/Qwen-Image-Edit\\nUpdated\\n4 days ago\\n•\\n23.5k\\n•\\n1.02k\\ndeepseek-ai/DeepSeek-V3.1-Base\\nUpdated\\nabout 2 hours ago\\n•\\n10.9k\\n•\\n838\\ngoogle/gemma-3-270m\\nUpdated\\n8 days ago\\n•\\n57.7k\\n•\\n578\\ndeepseek-ai/DeepSeek-V3.1\\nUpdated\\nabout 2 hours ago\\n•\\n7.8k\\n•\\n399\\ntencent/Hunyuan-GameCraft-1.0\\nUpdated\\n3 days ago\\n•\\n153\\n•\\n449\\nBrowse 1M+ models\\nSpaces\\nRunning\\n12.2k\\n12.2k\\nDeepSite v2\\n🐳\\nGenerate any application with DeepSeek\\nRunning\\non\\nZero\\n237\\n237\\nQwen '"
            ],
            "application/vnd.google.colaboratory.intrinsic+json": {
              "type": "string"
            }
          },
          "metadata": {},
          "execution_count": 107
        }
      ],
      "source": [
        "get_brochure_user_prompt(company_name, company_url)"
      ]
    },
    {
      "cell_type": "code",
      "execution_count": 108,
      "id": "e44de579-4a1a-4e6a-a510-20ea3e4b8d46",
      "metadata": {
        "id": "e44de579-4a1a-4e6a-a510-20ea3e4b8d46"
      },
      "outputs": [],
      "source": [
        "\n",
        "def create_brochure(company_name, url):\n",
        "    global result\n",
        "    response = openai.chat.completions.create(\n",
        "        model=MODEL,\n",
        "        messages=[\n",
        "            {\"role\": \"system\", \"content\": system_prompt},\n",
        "            {\"role\": \"user\", \"content\": get_brochure_user_prompt(company_name, url)}\n",
        "          ],\n",
        "    )\n",
        "    result = response.choices[0].message.content\n",
        "    display(Markdown(result))"
      ]
    },
    {
      "cell_type": "code",
      "execution_count": 109,
      "id": "e093444a-9407-42ae-924a-145730591a39",
      "metadata": {
        "colab": {
          "base_uri": "https://localhost:8080/",
          "height": 1000
        },
        "id": "e093444a-9407-42ae-924a-145730591a39",
        "outputId": "f3602e49-3720-4dbc-f145-5cab12c5ca8d"
      },
      "outputs": [
        {
          "output_type": "stream",
          "name": "stdout",
          "text": [
            "Found links: {'links': [{'type': 'about page', 'url': 'https://huggingface.co/about'}, {'type': 'careers page', 'url': 'https://apply.workable.com/huggingface/'}, {'type': 'company page', 'url': 'https://huggingface.co/enterprise'}, {'type': 'pricing page', 'url': 'https://huggingface.co/pricing'}, {'type': 'blog', 'url': 'https://huggingface.co/blog'}, {'type': 'join page', 'url': 'https://huggingface.co/join'}, {'type': 'docs page', 'url': 'https://huggingface.co/docs'}]}\n"
          ]
        },
        {
          "output_type": "display_data",
          "data": {
            "text/plain": [
              "<IPython.core.display.Markdown object>"
            ],
            "text/markdown": "# Hugging Face Brochure\n\n## Company Overview\n**Hugging Face** is at the forefront of the artificial intelligence (AI) revolution, creating an inclusive and collaborative community that builds the future of machine learning (ML). We empower users to explore, create, and share AI models, datasets, and applications on a comprehensive platform that enhances collaboration and accelerates innovation.\n\n### Our Mission\nTo democratize AI and nurture an open-source culture that fosters creativity and collaboration among all skill levels in the ML community.\n\n## Core Offerings\n- **Models:** Explore over 1 million AI models, including the latest advancements and trending projects like Qwen and DeepSeek.\n- **Datasets:** Access a vast collection of 250,000 datasets essential for training and deploying machine learning algorithms.\n- **Spaces:** Create and run AI applications effortlessly, fostering real-time collaboration.\n- **Enterprise Solutions:** Tailored solutions offering robust security, priority support, and advanced features for organizations aiming to scale.\n\n## Company Culture\nAt Hugging Face, we pride ourselves on our community-centric ethos. We embrace an open-source philosophy, encouraging innovation and collaboration. Our work environment is designed to support creativity where every voice is valued. We foster an inclusive culture that invites diverse perspectives, making it a great place for all individuals passionate about AI and machine learning.\n\n### Values:\n- **Inclusivity:** Encouraging participation from all backgrounds and skill levels.\n- **Collaboration:** Building a community where knowledge is shared and collective progress is prioritized.\n- **Innovation:** Continuously pushing the boundaries of what is possible with AI.\n\n## Customer Base\nWith over 50,000 organizations relying on Hugging Face, including industry leaders like Google, Microsoft, and Amazon, our platform is trusted by enterprises around the globe. Our tools have been adopted across various sectors, enabling teams to deploy state-of-the-art AI without compromising on security or efficiency.\n\n## Career Opportunities\n**Join the Hugging Face Family!**\nWe are always looking for passionate individuals who want to shape the future of AI. Explore our latest openings and be a part of a team that values innovation and collaboration.\n\n### Current Openings:\n- Software Engineers\n- Data Scientists\n- Community Managers\n- Product Managers\n\n### Benefits of Working with Us:\n- Work in a flexible and dynamic environment.\n- Engage in meaningful projects that make a real impact.\n- Participate in continuous learning and development opportunities.\n\n---\n\nFor more information about our services, community involvement, or career opportunities, visit our website at [Hugging Face](https://huggingface.co). Let's build the future of AI together!"
          },
          "metadata": {}
        }
      ],
      "source": [
        "\n",
        "create_brochure(company_name, company_url)\n"
      ]
    },
    {
      "cell_type": "code",
      "source": [
        "print(result)"
      ],
      "metadata": {
        "colab": {
          "base_uri": "https://localhost:8080/"
        },
        "id": "WLFNOEHfRzDF",
        "outputId": "7d413f7a-c9bb-4b77-889f-8844f6b51c93"
      },
      "id": "WLFNOEHfRzDF",
      "execution_count": 110,
      "outputs": [
        {
          "output_type": "stream",
          "name": "stdout",
          "text": [
            "# Hugging Face Brochure\n",
            "\n",
            "## Company Overview\n",
            "**Hugging Face** is at the forefront of the artificial intelligence (AI) revolution, creating an inclusive and collaborative community that builds the future of machine learning (ML). We empower users to explore, create, and share AI models, datasets, and applications on a comprehensive platform that enhances collaboration and accelerates innovation.\n",
            "\n",
            "### Our Mission\n",
            "To democratize AI and nurture an open-source culture that fosters creativity and collaboration among all skill levels in the ML community.\n",
            "\n",
            "## Core Offerings\n",
            "- **Models:** Explore over 1 million AI models, including the latest advancements and trending projects like Qwen and DeepSeek.\n",
            "- **Datasets:** Access a vast collection of 250,000 datasets essential for training and deploying machine learning algorithms.\n",
            "- **Spaces:** Create and run AI applications effortlessly, fostering real-time collaboration.\n",
            "- **Enterprise Solutions:** Tailored solutions offering robust security, priority support, and advanced features for organizations aiming to scale.\n",
            "\n",
            "## Company Culture\n",
            "At Hugging Face, we pride ourselves on our community-centric ethos. We embrace an open-source philosophy, encouraging innovation and collaboration. Our work environment is designed to support creativity where every voice is valued. We foster an inclusive culture that invites diverse perspectives, making it a great place for all individuals passionate about AI and machine learning.\n",
            "\n",
            "### Values:\n",
            "- **Inclusivity:** Encouraging participation from all backgrounds and skill levels.\n",
            "- **Collaboration:** Building a community where knowledge is shared and collective progress is prioritized.\n",
            "- **Innovation:** Continuously pushing the boundaries of what is possible with AI.\n",
            "\n",
            "## Customer Base\n",
            "With over 50,000 organizations relying on Hugging Face, including industry leaders like Google, Microsoft, and Amazon, our platform is trusted by enterprises around the globe. Our tools have been adopted across various sectors, enabling teams to deploy state-of-the-art AI without compromising on security or efficiency.\n",
            "\n",
            "## Career Opportunities\n",
            "**Join the Hugging Face Family!**\n",
            "We are always looking for passionate individuals who want to shape the future of AI. Explore our latest openings and be a part of a team that values innovation and collaboration.\n",
            "\n",
            "### Current Openings:\n",
            "- Software Engineers\n",
            "- Data Scientists\n",
            "- Community Managers\n",
            "- Product Managers\n",
            "\n",
            "### Benefits of Working with Us:\n",
            "- Work in a flexible and dynamic environment.\n",
            "- Engage in meaningful projects that make a real impact.\n",
            "- Participate in continuous learning and development opportunities.\n",
            "\n",
            "---\n",
            "\n",
            "For more information about our services, community involvement, or career opportunities, visit our website at [Hugging Face](https://huggingface.co). Let's build the future of AI together!\n"
          ]
        }
      ]
    },
    {
      "cell_type": "code",
      "source": [
        "system_prompt_design='''\n",
        "You are a creative AI brochure architect. Your mission is to convert any company's formatted website or structured input into a visually impressive, contemporary, and print-ready two-page brochure solely in HTML + embedded CSS, ready for seamless conversion with WeasyPrint.\n",
        "\n",
        "Instructions:\n",
        "\n",
        "Use modern, design-forward layout principles: experiment with grids, cards, visually-contrasted modules or sidebars, vertical or horizontal info areas, hero headings, large blocks, etc.\n",
        "\n",
        "Color palette: Primarily light blues, blue-whites, sky blues, with darker or brighter accents as needed for contrast, consistency, and visual engagement.\n",
        "\n",
        "Include CSS effects as appropriate for print (e.g., subtle drop-shadows, borders, large bold headings, soft gradients, colored side stripes, or title blocks).\n",
        "\n",
        "Organize all company input into beautiful structured sections—break out features, values, sections, side notes, or testimonials as suited to the content.\n",
        "\n",
        "Strictly limit to two pages: Arrange content and adjust sizing so everything fits elegantly within exactly two print pages. Place\n",
        "<div class=\"page-break\"></div> between the pages.\n",
        "\n",
        "Typography: Use only embedded fonts—modern, legible, e.g. Segoe UI, Arial, sans-serif, with bold, size, tracking, and case effects for headings.\n",
        "\n",
        "No external images or asset links: Create all visuals with CSS, use colored blocks or shaped divs for illustrations/logos if you wish.\n",
        "\n",
        "No explanations or markdown—only the final HTML and CSS data.\n",
        "\n",
        "Ensure the HTML output is instantly usable for PDF rendering with WeasyPrint, A4/Letter size.\n",
        "\n",
        "Input:\n",
        "Formatted company/website content.\n",
        "\n",
        "Output:\n",
        "Complete, attractive, fully styled 2-page HTML+CSS brochure, with the above requirements.Do NOT wrap your output in triple backticks or any markdown fencing. Output raw HTML only.\n",
        "\n",
        "Make use of all layout, design, and creative freedom, while ensuring clarity and alignment with modern print design.'''\n",
        "user_prompt_design=\"this is the markdowned broonchure skeleton \"\n",
        "user_prompt_design+=result\n",
        "print(user_prompt_design)\n"
      ],
      "metadata": {
        "colab": {
          "base_uri": "https://localhost:8080/"
        },
        "id": "Gzb0VGDGL6XA",
        "outputId": "b4b85674-3c28-44a3-e324-e685ef4da4b2"
      },
      "id": "Gzb0VGDGL6XA",
      "execution_count": 111,
      "outputs": [
        {
          "output_type": "stream",
          "name": "stdout",
          "text": [
            "this is the markdowned broonchure skeleton # Hugging Face Brochure\n",
            "\n",
            "## Company Overview\n",
            "**Hugging Face** is at the forefront of the artificial intelligence (AI) revolution, creating an inclusive and collaborative community that builds the future of machine learning (ML). We empower users to explore, create, and share AI models, datasets, and applications on a comprehensive platform that enhances collaboration and accelerates innovation.\n",
            "\n",
            "### Our Mission\n",
            "To democratize AI and nurture an open-source culture that fosters creativity and collaboration among all skill levels in the ML community.\n",
            "\n",
            "## Core Offerings\n",
            "- **Models:** Explore over 1 million AI models, including the latest advancements and trending projects like Qwen and DeepSeek.\n",
            "- **Datasets:** Access a vast collection of 250,000 datasets essential for training and deploying machine learning algorithms.\n",
            "- **Spaces:** Create and run AI applications effortlessly, fostering real-time collaboration.\n",
            "- **Enterprise Solutions:** Tailored solutions offering robust security, priority support, and advanced features for organizations aiming to scale.\n",
            "\n",
            "## Company Culture\n",
            "At Hugging Face, we pride ourselves on our community-centric ethos. We embrace an open-source philosophy, encouraging innovation and collaboration. Our work environment is designed to support creativity where every voice is valued. We foster an inclusive culture that invites diverse perspectives, making it a great place for all individuals passionate about AI and machine learning.\n",
            "\n",
            "### Values:\n",
            "- **Inclusivity:** Encouraging participation from all backgrounds and skill levels.\n",
            "- **Collaboration:** Building a community where knowledge is shared and collective progress is prioritized.\n",
            "- **Innovation:** Continuously pushing the boundaries of what is possible with AI.\n",
            "\n",
            "## Customer Base\n",
            "With over 50,000 organizations relying on Hugging Face, including industry leaders like Google, Microsoft, and Amazon, our platform is trusted by enterprises around the globe. Our tools have been adopted across various sectors, enabling teams to deploy state-of-the-art AI without compromising on security or efficiency.\n",
            "\n",
            "## Career Opportunities\n",
            "**Join the Hugging Face Family!**\n",
            "We are always looking for passionate individuals who want to shape the future of AI. Explore our latest openings and be a part of a team that values innovation and collaboration.\n",
            "\n",
            "### Current Openings:\n",
            "- Software Engineers\n",
            "- Data Scientists\n",
            "- Community Managers\n",
            "- Product Managers\n",
            "\n",
            "### Benefits of Working with Us:\n",
            "- Work in a flexible and dynamic environment.\n",
            "- Engage in meaningful projects that make a real impact.\n",
            "- Participate in continuous learning and development opportunities.\n",
            "\n",
            "---\n",
            "\n",
            "For more information about our services, community involvement, or career opportunities, visit our website at [Hugging Face](https://huggingface.co). Let's build the future of AI together!\n"
          ]
        }
      ]
    },
    {
      "cell_type": "code",
      "source": [
        "m1=\"gpt-4o-mini\"\n",
        "m2=\"gpt-4o\"\n",
        "#standard m=m1(recommended)\n",
        "m=m1\n",
        "choice=input(\"which model you want to use :\\n 1)gpt-4o-mini : cheaper and standard result \\n2) gpt-4o  : costlies creative and professional brnchure \\n\")\n",
        "if choice=='2':\n",
        "  m=m2\n",
        "else:\n",
        "  m=m1\n",
        "respoonse=openai.chat.completions.create(\n",
        "    model=m,\n",
        "    messages=[\n",
        "        {\"role\": \"system\", \"content\": system_prompt_design},\n",
        "        {\"role\":\"user\",\"content\":user_prompt_design}]\n",
        ")\n",
        "print(respoonse.choices[0].message.content)"
      ],
      "metadata": {
        "colab": {
          "base_uri": "https://localhost:8080/"
        },
        "id": "BDbSnB3ePy9A",
        "outputId": "0c7e6775-e213-4cdd-9239-03f3c5a89bf8"
      },
      "id": "BDbSnB3ePy9A",
      "execution_count": 112,
      "outputs": [
        {
          "output_type": "stream",
          "name": "stdout",
          "text": [
            "which model you want to use :\n",
            " 1)gpt-4o-mini : cheaper and standard result \n",
            "2) gpt-4o  : costlies creative and professional brnchure \n",
            "1\n",
            "<!DOCTYPE html>\n",
            "<html lang=\"en\">\n",
            "<head>\n",
            "    <meta charset=\"UTF-8\">\n",
            "    <meta name=\"viewport\" content=\"width=device-width, initial-scale=1.0\">\n",
            "    <title>Hugging Face Brochure</title>\n",
            "    <style>\n",
            "        body {\n",
            "            font-family: 'Segoe UI', Arial, sans-serif;\n",
            "            margin: 0;\n",
            "            padding: 0;\n",
            "            background: #f4f9fc;\n",
            "            color: #333;\n",
            "            line-height: 1.5;\n",
            "        }\n",
            "        .container {\n",
            "            max-width: 800px;\n",
            "            margin: 0 auto;\n",
            "            padding: 20px;\n",
            "        }\n",
            "        h1, h2, h3 {\n",
            "            color: #0078d4;\n",
            "            margin: 10px 0;\n",
            "        }\n",
            "        h1 {\n",
            "            font-size: 2.5em;\n",
            "            text-align: center;\n",
            "            border-bottom: 2px solid #0078d4;\n",
            "            padding-bottom: 10px;\n",
            "        }\n",
            "        h2 {\n",
            "            font-size: 1.8em;\n",
            "            margin-top: 20px;\n",
            "            text-transform: uppercase;\n",
            "        }\n",
            "        h3 {\n",
            "            font-size: 1.5em;\n",
            "            margin-top: 15px;\n",
            "        }\n",
            "        p {\n",
            "            margin: 10px 0;\n",
            "        }\n",
            "        ul {\n",
            "            list-style: none;\n",
            "            padding: 0;\n",
            "        }\n",
            "        li {\n",
            "            background: #e0f0ff;\n",
            "            margin: 5px 0;\n",
            "            padding: 10px;\n",
            "            border-radius: 5px;\n",
            "            box-shadow: 1px 1px 3px rgba(0,0,0,0.2);\n",
            "        }\n",
            "        .values {\n",
            "            display: flex;\n",
            "            justify-content: space-between;\n",
            "            margin-top: 20px;\n",
            "        }\n",
            "        .value {\n",
            "            background: #ffffff;\n",
            "            border: 1px solid #0078d4;\n",
            "            padding: 20px;\n",
            "            border-radius: 5px;\n",
            "            box-shadow: 2px 2px 5px rgba(0,0,0,0.1);\n",
            "            flex: 1;\n",
            "            margin: 10px;\n",
            "        }\n",
            "        .hero {\n",
            "            background: linear-gradient(135deg, #92C9FF 0%, #f4f9fc 100%);\n",
            "            padding: 20px;\n",
            "            border-radius: 10px;\n",
            "            box-shadow: 2px 2px 10px rgba(0,0,0,0.1);\n",
            "            text-align: center;\n",
            "        }\n",
            "        .career-opportunities {\n",
            "            background: #e0f0ff;\n",
            "            padding: 15px;\n",
            "            border-radius: 5px;\n",
            "            margin-top: 20px;\n",
            "            text-align: center;\n",
            "        }\n",
            "        .website {\n",
            "            text-align: center;\n",
            "            margin-top: 20px;\n",
            "            font-weight: bold;\n",
            "        }\n",
            "        .page-break {\n",
            "            page-break-after: always;\n",
            "        }\n",
            "    </style>\n",
            "</head>\n",
            "<body>\n",
            "    <div class=\"container\">\n",
            "        <h1>Hugging Face Brochure</h1>\n",
            "        <div class=\"hero\">\n",
            "            <h2>Company Overview</h2>\n",
            "            <p><strong>Hugging Face</strong> is at the forefront of the artificial intelligence (AI) revolution, creating an inclusive and collaborative community that builds the future of machine learning (ML).</p>\n",
            "            <p>We empower users to explore, create, and share AI models, datasets, and applications on a comprehensive platform that enhances collaboration and accelerates innovation.</p>\n",
            "        </div>\n",
            "\n",
            "        <h3>Our Mission</h3>\n",
            "        <p>To democratize AI and nurture an open-source culture that fosters creativity and collaboration among all skill levels in the ML community.</p>\n",
            "\n",
            "        <h2>Core Offerings</h2>\n",
            "        <ul>\n",
            "            <li><strong>Models:</strong> Explore over 1 million AI models, including the latest advancements and trending projects like Qwen and DeepSeek.</li>\n",
            "            <li><strong>Datasets:</strong> Access a vast collection of 250,000 datasets essential for training and deploying machine learning algorithms.</li>\n",
            "            <li><strong>Spaces:</strong> Create and run AI applications effortlessly, fostering real-time collaboration.</li>\n",
            "            <li><strong>Enterprise Solutions:</strong> Tailored solutions offering robust security, priority support, and advanced features for organizations aiming to scale.</li>\n",
            "        </ul>\n",
            "\n",
            "        <h2>Company Culture</h2>\n",
            "        <p>At Hugging Face, we pride ourselves on our community-centric ethos. We embrace an open-source philosophy, encouraging innovation and collaboration. Our inclusive culture invites diverse perspectives, making it a great place for all individuals passionate about AI and machine learning.</p>\n",
            "\n",
            "        <div class=\"values\">\n",
            "            <div class=\"value\">\n",
            "                <h3>Inclusivity</h3>\n",
            "                <p>Encouraging participation from all backgrounds and skill levels.</p>\n",
            "            </div>\n",
            "            <div class=\"value\">\n",
            "                <h3>Collaboration</h3>\n",
            "                <p>Building a community where knowledge is shared and collective progress is prioritized.</p>\n",
            "            </div>\n",
            "            <div class=\"value\">\n",
            "                <h3>Innovation</h3>\n",
            "                <p>Continuously pushing the boundaries of what is possible with AI.</p>\n",
            "            </div>\n",
            "        </div>\n",
            "\n",
            "        <h2>Customer Base</h2>\n",
            "        <p>With over 50,000 organizations relying on Hugging Face, our platform is trusted by industry leaders like Google, Microsoft, and Amazon.</p>\n",
            "        <p>Our tools have been adopted across various sectors, enabling teams to deploy state-of-the-art AI without compromising on security or efficiency.</p>\n",
            "\n",
            "        <div class=\"page-break\"></div>\n",
            "\n",
            "        <h2>Career Opportunities</h2>\n",
            "        <div class=\"career-opportunities\">\n",
            "            <h3>Join the Hugging Face Family!</h3>\n",
            "            <p>We are always looking for passionate individuals who want to shape the future of AI.</p>\n",
            "            <h3>Current Openings:</h3>\n",
            "            <ul>\n",
            "                <li>Software Engineers</li>\n",
            "                <li>Data Scientists</li>\n",
            "                <li>Community Managers</li>\n",
            "                <li>Product Managers</li>\n",
            "            </ul>\n",
            "            <h3>Benefits of Working with Us:</h3>\n",
            "            <ul>\n",
            "                <li>Work in a flexible and dynamic environment.</li>\n",
            "                <li>Engage in meaningful projects that make a real impact.</li>\n",
            "                <li>Participate in continuous learning and development opportunities.</li>\n",
            "            </ul>\n",
            "        </div>\n",
            "\n",
            "        <div class=\"website\">\n",
            "            <p>For more information about our services, community involvement, or career opportunities, visit our website at <a href=\"https://huggingface.co\" style=\"color: #0078d4; text-decoration: none;\">Hugging Face</a>. Let's build the future of AI together!</p>\n",
            "        </div>\n",
            "    </div>\n",
            "</body>\n",
            "</html>\n"
          ]
        }
      ]
    },
    {
      "cell_type": "code",
      "execution_count": 113,
      "id": "8277ec97-a982-48db-a57f-4f1db8748400",
      "metadata": {
        "colab": {
          "base_uri": "https://localhost:8080/"
        },
        "id": "8277ec97-a982-48db-a57f-4f1db8748400",
        "outputId": "7af69a2b-2c34-4044-97bf-9466b7ef9895"
      },
      "outputs": [
        {
          "output_type": "stream",
          "name": "stderr",
          "text": [
            "WARNING:weasyprint:Ignored `box-shadow: 1px 1px 3px rgba(0,0,0,0.2)` at 46:13, unknown property.\n",
            "WARNING:weasyprint:Ignored `box-shadow: 2px 2px 5px rgba(0,0,0,0.1)` at 58:13, unknown property.\n",
            "WARNING:weasyprint:Ignored `box-shadow: 2px 2px 10px rgba(0,0,0,0.1)` at 66:13, unknown property.\n",
            "DEBUG:fontTools.ttLib.ttFont:Reading 'maxp' table from disk\n",
            "DEBUG:fontTools.ttLib.ttFont:Decompiling 'maxp' table\n",
            "DEBUG:fontTools.subset.timer:Took 0.005s to load 'maxp'\n",
            "DEBUG:fontTools.subset.timer:Took 0.000s to prune 'maxp'\n",
            "INFO:fontTools.subset:maxp pruned\n",
            "DEBUG:fontTools.ttLib.ttFont:Reading 'cmap' table from disk\n",
            "DEBUG:fontTools.ttLib.ttFont:Decompiling 'cmap' table\n",
            "DEBUG:fontTools.ttLib.ttFont:Reading 'post' table from disk\n",
            "DEBUG:fontTools.ttLib.ttFont:Decompiling 'post' table\n",
            "DEBUG:fontTools.subset.timer:Took 0.008s to load 'cmap'\n",
            "DEBUG:fontTools.subset.timer:Took 0.000s to prune 'cmap'\n",
            "INFO:fontTools.subset:cmap pruned\n",
            "INFO:fontTools.subset:fpgm dropped\n",
            "INFO:fontTools.subset:prep dropped\n",
            "INFO:fontTools.subset:cvt  dropped\n",
            "INFO:fontTools.subset:kern dropped\n",
            "DEBUG:fontTools.subset.timer:Took 0.000s to load 'post'\n",
            "DEBUG:fontTools.subset.timer:Took 0.000s to prune 'post'\n",
            "INFO:fontTools.subset:post pruned\n",
            "INFO:fontTools.subset:GPOS dropped\n",
            "INFO:fontTools.subset:GSUB dropped\n",
            "DEBUG:fontTools.ttLib.ttFont:Reading 'glyf' table from disk\n",
            "DEBUG:fontTools.ttLib.ttFont:Decompiling 'glyf' table\n",
            "DEBUG:fontTools.ttLib.ttFont:Reading 'loca' table from disk\n",
            "DEBUG:fontTools.ttLib.ttFont:Decompiling 'loca' table\n",
            "DEBUG:fontTools.ttLib.ttFont:Reading 'head' table from disk\n",
            "DEBUG:fontTools.ttLib.ttFont:Decompiling 'head' table\n",
            "DEBUG:fontTools.subset.timer:Took 0.007s to load 'glyf'\n",
            "DEBUG:fontTools.subset.timer:Took 0.000s to prune 'glyf'\n",
            "INFO:fontTools.subset:glyf pruned\n",
            "DEBUG:fontTools.subset.timer:Took 0.000s to close glyph list over 'cmap'\n",
            "INFO:fontTools.subset:Added gid0 to subset\n",
            "INFO:fontTools.subset:Closing glyph list over 'glyf': 51 glyphs before\n",
            "INFO:fontTools.subset:Glyph names: ['.notdef', 'A', 'B', 'C', 'D', 'E', 'F', 'G', 'H', 'I', 'J', 'L', 'M', 'N', 'O', 'P', 'R', 'S', 'T', 'U', 'V', 'W', 'Y', 'a', 'b', 'c', 'colon', 'comma', 'd', 'e', 'exclam', 'f', 'g', 'h', 'i', 'k', 'l', 'm', 'n', 'o', 'p', 'period', 'quotesingle', 'r', 's', 't', 'u', 'uni00A0', 'v', 'w', 'y']\n",
            "INFO:fontTools.subset:Glyph IDs:   [0, 3, 4, 10, 15, 17, 29, 36, 37, 38, 39, 40, 41, 42, 43, 44, 45, 47, 48, 49, 50, 51, 53, 54, 55, 56, 57, 58, 60, 68, 69, 70, 71, 72, 73, 74, 75, 76, 78, 79, 80, 81, 82, 83, 85, 86, 87, 88, 89, 90, 92]\n",
            "INFO:fontTools.subset:Closed glyph list over 'glyf': 51 glyphs after\n",
            "INFO:fontTools.subset:Glyph names: ['.notdef', 'A', 'B', 'C', 'D', 'E', 'F', 'G', 'H', 'I', 'J', 'L', 'M', 'N', 'O', 'P', 'R', 'S', 'T', 'U', 'V', 'W', 'Y', 'a', 'b', 'c', 'colon', 'comma', 'd', 'e', 'exclam', 'f', 'g', 'h', 'i', 'k', 'l', 'm', 'n', 'o', 'p', 'period', 'quotesingle', 'r', 's', 't', 'u', 'uni00A0', 'v', 'w', 'y']\n",
            "INFO:fontTools.subset:Glyph IDs:   [0, 3, 4, 10, 15, 17, 29, 36, 37, 38, 39, 40, 41, 42, 43, 44, 45, 47, 48, 49, 50, 51, 53, 54, 55, 56, 57, 58, 60, 68, 69, 70, 71, 72, 73, 74, 75, 76, 78, 79, 80, 81, 82, 83, 85, 86, 87, 88, 89, 90, 92]\n",
            "DEBUG:fontTools.subset.timer:Took 0.005s to close glyph list over 'glyf'\n",
            "INFO:fontTools.subset:Retaining 51 glyphs\n",
            "INFO:fontTools.subset:head subsetting not needed\n",
            "INFO:fontTools.subset:hhea subsetting not needed\n",
            "INFO:fontTools.subset:maxp subsetting not needed\n",
            "INFO:fontTools.subset:OS/2 subsetting not needed\n",
            "DEBUG:fontTools.ttLib.ttFont:Reading 'hmtx' table from disk\n",
            "DEBUG:fontTools.ttLib.ttFont:Decompiling 'hmtx' table\n",
            "DEBUG:fontTools.ttLib.ttFont:Reading 'hhea' table from disk\n",
            "DEBUG:fontTools.ttLib.ttFont:Decompiling 'hhea' table\n",
            "DEBUG:fontTools.subset.timer:Took 0.004s to subset 'hmtx'\n",
            "INFO:fontTools.subset:hmtx subsetted\n",
            "DEBUG:fontTools.subset.timer:Took 0.000s to subset 'cmap'\n",
            "INFO:fontTools.subset:cmap subsetted\n",
            "INFO:fontTools.subset:loca subsetting not needed\n",
            "DEBUG:fontTools.subset.timer:Took 0.000s to subset 'post'\n",
            "INFO:fontTools.subset:post subsetted\n",
            "INFO:fontTools.subset:gasp subsetting not needed\n",
            "INFO:fontTools.subset:FFTM NOT subset; don't know how to subset\n",
            "DEBUG:fontTools.ttLib.ttFont:Reading 'GDEF' table from disk\n",
            "DEBUG:fontTools.ttLib.ttFont:Decompiling 'GDEF' table\n",
            "DEBUG:fontTools.subset.timer:Took 0.002s to subset 'GDEF'\n",
            "INFO:fontTools.subset:GDEF subsetted\n",
            "INFO:fontTools.subset:name subsetting not needed\n",
            "DEBUG:fontTools.subset.timer:Took 0.000s to subset 'glyf'\n",
            "INFO:fontTools.subset:glyf subsetted\n",
            "DEBUG:fontTools.subset.timer:Took 0.000s to subset GlyphOrder\n",
            "DEBUG:fontTools.subset.timer:Took 0.000s to prune 'head'\n",
            "INFO:fontTools.subset:head pruned\n",
            "DEBUG:fontTools.ttLib.ttFont:Reading 'OS/2' table from disk\n",
            "DEBUG:fontTools.ttLib.ttFont:Decompiling 'OS/2' table\n",
            "INFO:fontTools.subset:OS/2 Unicode ranges pruned: [0, 1]\n",
            "INFO:fontTools.subset:OS/2 CodePage ranges pruned: [0]\n",
            "DEBUG:fontTools.subset.timer:Took 0.001s to prune 'glyf'\n",
            "INFO:fontTools.subset:glyf pruned\n",
            "DEBUG:fontTools.subset.timer:Took 0.000s to prune 'GDEF'\n",
            "INFO:fontTools.subset:GDEF pruned\n",
            "DEBUG:fontTools.ttLib.ttFont:Reading 'name' table from disk\n",
            "DEBUG:fontTools.ttLib.ttFont:Decompiling 'name' table\n",
            "DEBUG:fontTools.ttLib.ttFont:Reading 'gasp' table from disk\n",
            "DEBUG:fontTools.ttLib.ttFont:Decompiling 'gasp' table\n",
            "DEBUG:fontTools.ttLib.ttFont:Reading 'FFTM' table from disk\n",
            "DEBUG:fontTools.ttLib.ttFont:Decompiling 'FFTM' table\n",
            "DEBUG:fontTools.subset.timer:Took 0.004s to prune 'name'\n",
            "INFO:fontTools.subset:name pruned\n",
            "DEBUG:fontTools.ttLib.ttFont:Reading 'maxp' table from disk\n",
            "DEBUG:fontTools.ttLib.ttFont:Decompiling 'maxp' table\n",
            "DEBUG:fontTools.subset.timer:Took 0.005s to load 'maxp'\n",
            "DEBUG:fontTools.subset.timer:Took 0.000s to prune 'maxp'\n",
            "INFO:fontTools.subset:maxp pruned\n",
            "DEBUG:fontTools.ttLib.ttFont:Reading 'cmap' table from disk\n",
            "DEBUG:fontTools.ttLib.ttFont:Decompiling 'cmap' table\n",
            "DEBUG:fontTools.ttLib.ttFont:Reading 'post' table from disk\n",
            "DEBUG:fontTools.ttLib.ttFont:Decompiling 'post' table\n",
            "DEBUG:fontTools.subset.timer:Took 0.011s to load 'cmap'\n",
            "DEBUG:fontTools.subset.timer:Took 0.000s to prune 'cmap'\n",
            "INFO:fontTools.subset:cmap pruned\n",
            "INFO:fontTools.subset:fpgm dropped\n",
            "INFO:fontTools.subset:prep dropped\n",
            "INFO:fontTools.subset:cvt  dropped\n",
            "INFO:fontTools.subset:kern dropped\n",
            "DEBUG:fontTools.subset.timer:Took 0.000s to load 'post'\n",
            "DEBUG:fontTools.subset.timer:Took 0.000s to prune 'post'\n",
            "INFO:fontTools.subset:post pruned\n",
            "INFO:fontTools.subset:GPOS dropped\n",
            "INFO:fontTools.subset:GSUB dropped\n",
            "DEBUG:fontTools.ttLib.ttFont:Reading 'glyf' table from disk\n",
            "DEBUG:fontTools.ttLib.ttFont:Decompiling 'glyf' table\n",
            "DEBUG:fontTools.ttLib.ttFont:Reading 'loca' table from disk\n",
            "DEBUG:fontTools.ttLib.ttFont:Decompiling 'loca' table\n",
            "DEBUG:fontTools.ttLib.ttFont:Reading 'head' table from disk\n",
            "DEBUG:fontTools.ttLib.ttFont:Decompiling 'head' table\n",
            "DEBUG:fontTools.subset.timer:Took 0.010s to load 'glyf'\n",
            "DEBUG:fontTools.subset.timer:Took 0.000s to prune 'glyf'\n",
            "INFO:fontTools.subset:glyf pruned\n",
            "DEBUG:fontTools.subset.timer:Took 0.000s to close glyph list over 'cmap'\n",
            "INFO:fontTools.subset:Added gid0 to subset\n",
            "INFO:fontTools.subset:Closing glyph list over 'glyf': 53 glyphs before\n",
            "INFO:fontTools.subset:Glyph names: ['.notdef', 'A', 'B', 'C', 'D', 'E', 'F', 'G', 'H', 'I', 'L', 'M', 'O', 'P', 'Q', 'S', 'T', 'W', 'a', 'b', 'c', 'comma', 'd', 'e', 'f', 'five', 'g', 'h', 'i', 'j', 'k', 'l', 'm', 'n', 'o', 'one', 'p', 'parenleft', 'parenright', 'period', 'r', 's', 't', 'two', 'u', 'uni00A0', 'uni00AD', 'v', 'w', 'x', 'y', 'z', 'zero']\n",
            "INFO:fontTools.subset:Glyph IDs:   [0, 3, 11, 12, 15, 16, 17, 19, 20, 21, 24, 36, 37, 38, 39, 40, 41, 42, 43, 44, 47, 48, 50, 51, 52, 54, 55, 58, 68, 69, 70, 71, 72, 73, 74, 75, 76, 77, 78, 79, 80, 81, 82, 83, 85, 86, 87, 88, 89, 90, 91, 92, 93]\n",
            "INFO:fontTools.subset:Closed glyph list over 'glyf': 53 glyphs after\n",
            "INFO:fontTools.subset:Glyph names: ['.notdef', 'A', 'B', 'C', 'D', 'E', 'F', 'G', 'H', 'I', 'L', 'M', 'O', 'P', 'Q', 'S', 'T', 'W', 'a', 'b', 'c', 'comma', 'd', 'e', 'f', 'five', 'g', 'h', 'i', 'j', 'k', 'l', 'm', 'n', 'o', 'one', 'p', 'parenleft', 'parenright', 'period', 'r', 's', 't', 'two', 'u', 'uni00A0', 'uni00AD', 'v', 'w', 'x', 'y', 'z', 'zero']\n",
            "INFO:fontTools.subset:Glyph IDs:   [0, 3, 11, 12, 15, 16, 17, 19, 20, 21, 24, 36, 37, 38, 39, 40, 41, 42, 43, 44, 47, 48, 50, 51, 52, 54, 55, 58, 68, 69, 70, 71, 72, 73, 74, 75, 76, 77, 78, 79, 80, 81, 82, 83, 85, 86, 87, 88, 89, 90, 91, 92, 93]\n",
            "DEBUG:fontTools.subset.timer:Took 0.004s to close glyph list over 'glyf'\n",
            "INFO:fontTools.subset:Retaining 53 glyphs\n",
            "INFO:fontTools.subset:head subsetting not needed\n",
            "INFO:fontTools.subset:hhea subsetting not needed\n",
            "INFO:fontTools.subset:maxp subsetting not needed\n",
            "INFO:fontTools.subset:OS/2 subsetting not needed\n",
            "DEBUG:fontTools.ttLib.ttFont:Reading 'hmtx' table from disk\n",
            "DEBUG:fontTools.ttLib.ttFont:Decompiling 'hmtx' table\n",
            "DEBUG:fontTools.ttLib.ttFont:Reading 'hhea' table from disk\n",
            "DEBUG:fontTools.ttLib.ttFont:Decompiling 'hhea' table\n",
            "DEBUG:fontTools.subset.timer:Took 0.005s to subset 'hmtx'\n",
            "INFO:fontTools.subset:hmtx subsetted\n",
            "DEBUG:fontTools.subset.timer:Took 0.000s to subset 'cmap'\n",
            "INFO:fontTools.subset:cmap subsetted\n",
            "INFO:fontTools.subset:loca subsetting not needed\n",
            "DEBUG:fontTools.subset.timer:Took 0.000s to subset 'post'\n",
            "INFO:fontTools.subset:post subsetted\n",
            "INFO:fontTools.subset:gasp subsetting not needed\n",
            "INFO:fontTools.subset:FFTM NOT subset; don't know how to subset\n",
            "DEBUG:fontTools.ttLib.ttFont:Reading 'GDEF' table from disk\n",
            "DEBUG:fontTools.ttLib.ttFont:Decompiling 'GDEF' table\n",
            "DEBUG:fontTools.subset.timer:Took 0.003s to subset 'GDEF'\n",
            "INFO:fontTools.subset:GDEF subsetted\n",
            "INFO:fontTools.subset:name subsetting not needed\n",
            "DEBUG:fontTools.subset.timer:Took 0.000s to subset 'glyf'\n",
            "INFO:fontTools.subset:glyf subsetted\n",
            "DEBUG:fontTools.subset.timer:Took 0.000s to subset GlyphOrder\n",
            "DEBUG:fontTools.subset.timer:Took 0.000s to prune 'head'\n",
            "INFO:fontTools.subset:head pruned\n",
            "DEBUG:fontTools.ttLib.ttFont:Reading 'OS/2' table from disk\n",
            "DEBUG:fontTools.ttLib.ttFont:Decompiling 'OS/2' table\n",
            "INFO:fontTools.subset:OS/2 Unicode ranges pruned: [0, 1]\n",
            "INFO:fontTools.subset:OS/2 CodePage ranges pruned: [0]\n",
            "DEBUG:fontTools.subset.timer:Took 0.001s to prune 'glyf'\n",
            "INFO:fontTools.subset:glyf pruned\n",
            "DEBUG:fontTools.subset.timer:Took 0.000s to prune 'GDEF'\n",
            "INFO:fontTools.subset:GDEF pruned\n",
            "DEBUG:fontTools.ttLib.ttFont:Reading 'name' table from disk\n",
            "DEBUG:fontTools.ttLib.ttFont:Decompiling 'name' table\n",
            "DEBUG:fontTools.ttLib.ttFont:Reading 'gasp' table from disk\n",
            "DEBUG:fontTools.ttLib.ttFont:Decompiling 'gasp' table\n",
            "DEBUG:fontTools.ttLib.ttFont:Reading 'FFTM' table from disk\n",
            "DEBUG:fontTools.ttLib.ttFont:Decompiling 'FFTM' table\n",
            "DEBUG:fontTools.subset.timer:Took 0.014s to prune 'name'\n",
            "INFO:fontTools.subset:name pruned\n"
          ]
        }
      ],
      "source": [
        "\n",
        "from weasyprint import HTML\n",
        "\n",
        "html_content = respoonse.choices[0].message.content\n",
        "HTML(string=html_content).write_pdf((company_name)+\".pdf\")\n"
      ]
    }
  ],
  "metadata": {
    "kernelspec": {
      "display_name": "Python 3 (ipykernel)",
      "language": "python",
      "name": "python3"
    },
    "language_info": {
      "codemirror_mode": {
        "name": "ipython",
        "version": 3
      },
      "file_extension": ".py",
      "mimetype": "text/x-python",
      "name": "python",
      "nbconvert_exporter": "python",
      "pygments_lexer": "ipython3",
      "version": "3.11.13"
    },
    "colab": {
      "provenance": []
    }
  },
  "nbformat": 4,
  "nbformat_minor": 5
}